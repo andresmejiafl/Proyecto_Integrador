{
 "cells": [
  {
   "cell_type": "markdown",
   "id": "80fbf25d",
   "metadata": {},
   "source": [
    "## Librerías"
   ]
  },
  {
   "cell_type": "code",
   "execution_count": null,
   "id": "74447ebb",
   "metadata": {},
   "outputs": [],
   "source": [
    "%load_ext autoreload"
   ]
  },
  {
   "cell_type": "code",
   "execution_count": null,
   "id": "92046562",
   "metadata": {},
   "outputs": [],
   "source": [
    "%reload_ext autoreload"
   ]
  },
  {
   "cell_type": "code",
   "execution_count": null,
   "id": "46fcd0c6",
   "metadata": {},
   "outputs": [],
   "source": [
    "%autoreload 2"
   ]
  },
  {
   "cell_type": "code",
   "execution_count": null,
   "id": "29011098",
   "metadata": {},
   "outputs": [],
   "source": [
    "import pandas as pd\n",
    "import numpy as np\n",
    "import matplotlib.pyplot as plt\n",
    "%matplotlib inline\n",
    "import os\n",
    "import seaborn as sns\n",
    "import warnings\n",
    "from codigos import grf\n",
    "from keras.preprocessing.image import ImageDataGenerator\n",
    "warnings.filterwarnings('ignore')"
   ]
  },
  {
   "cell_type": "markdown",
   "id": "dba2a3a1",
   "metadata": {},
   "source": [
    "## Análisis Exploratorio"
   ]
  },
  {
   "cell_type": "markdown",
   "id": "2d296d53",
   "metadata": {},
   "source": [
    "Se define la ruta donde se encuentran las imagenes y se carga el archivo csv con el nombre de las imagenes y su etiqueta"
   ]
  },
  {
   "cell_type": "code",
   "execution_count": null,
   "id": "5c8de477",
   "metadata": {},
   "outputs": [],
   "source": [
    "path = \"C:\\\\Users\\\\PC\\\\Documents\\\\Bajwa Hospital (Multi Eye Disease Dataset)\\\\\"\n",
    "df_images = pd.read_csv(path + \"\\dataset.csv\",\n",
    "                        sep=\";\")"
   ]
  },
  {
   "cell_type": "markdown",
   "id": "b97b7ba1",
   "metadata": {},
   "source": [
    "Muestra"
   ]
  },
  {
   "cell_type": "code",
   "execution_count": null,
   "id": "ab38cd47",
   "metadata": {},
   "outputs": [],
   "source": [
    "df_images.head()"
   ]
  },
  {
   "cell_type": "markdown",
   "id": "008cd588",
   "metadata": {},
   "source": [
    "Se revisa el balanceo de las muestras por clase"
   ]
  },
  {
   "cell_type": "code",
   "execution_count": null,
   "id": "07e3ef76",
   "metadata": {},
   "outputs": [],
   "source": [
    "grf.graph_target(df_images)"
   ]
  },
  {
   "cell_type": "markdown",
   "id": "7fae7e23",
   "metadata": {},
   "source": [
    "Graficamos muestras aleatorias de las imagenes"
   ]
  },
  {
   "cell_type": "code",
   "execution_count": null,
   "id": "bb9467f9",
   "metadata": {},
   "outputs": [],
   "source": [
    "grf.random_samples(df_images,path)"
   ]
  },
  {
   "cell_type": "markdown",
   "id": "1d329175",
   "metadata": {},
   "source": [
    "Dimensiones e intesidad de una imagen aleatoria del dataset"
   ]
  },
  {
   "cell_type": "code",
   "execution_count": null,
   "id": "43918c8a",
   "metadata": {
    "scrolled": false
   },
   "outputs": [],
   "source": [
    "grf.describe_image(df_images,path)"
   ]
  },
  {
   "cell_type": "markdown",
   "id": "f5bf9d32",
   "metadata": {},
   "source": [
    "## Preprocesamiento"
   ]
  },
  {
   "cell_type": "markdown",
   "id": "b9253151",
   "metadata": {},
   "source": [
    "Estandarización Z"
   ]
  },
  {
   "cell_type": "code",
   "execution_count": null,
   "id": "f1738c0b",
   "metadata": {},
   "outputs": [],
   "source": [
    "image_generator = ImageDataGenerator(\n",
    "    samplewise_center = True, \n",
    "    samplewise_std_normalization = True \n",
    ")"
   ]
  },
  {
   "cell_type": "code",
   "execution_count": null,
   "id": "329d30b3",
   "metadata": {},
   "outputs": [],
   "source": [
    "generator = image_generator.flow_from_dataframe(\n",
    "        dataframe = df_images,\n",
    "        directory = path,\n",
    "        x_col = \"source\", \n",
    "        y_col = 'target', \n",
    "        class_mode = \"raw\", \n",
    "        batch_size = 1, \n",
    "        shuffle = False, \n",
    "        target_size = (1728,2592) \n",
    ")"
   ]
  },
  {
   "cell_type": "code",
   "execution_count": null,
   "id": "c926b1ee",
   "metadata": {},
   "outputs": [],
   "source": [
    "generated_image, label = generator.__getitem__(0)"
   ]
  },
  {
   "cell_type": "markdown",
   "id": "e3e3086a",
   "metadata": {},
   "source": [
    "Dimensiones e intesidad de una imagen estandarizada del dataset"
   ]
  },
  {
   "cell_type": "code",
   "execution_count": null,
   "id": "a8575d3b",
   "metadata": {},
   "outputs": [],
   "source": [
    "grf.describe_image(generated_image,path,flag_raw=False)"
   ]
  },
  {
   "cell_type": "markdown",
   "id": "28b2bd85",
   "metadata": {},
   "source": [
    "Distribución de intensidades de una imagen del dataset en su forma original vs su forma estandarizada"
   ]
  },
  {
   "cell_type": "code",
   "execution_count": null,
   "id": "8606aace",
   "metadata": {},
   "outputs": [],
   "source": [
    "grf.raw_vs_std(df_images,path,generated_image)"
   ]
  },
  {
   "cell_type": "markdown",
   "id": "f3ea2333",
   "metadata": {},
   "source": [
    "## Modelación"
   ]
  },
  {
   "cell_type": "markdown",
   "id": "c7685c22",
   "metadata": {},
   "source": [
    "### Entrenamiento"
   ]
  },
  {
   "cell_type": "markdown",
   "id": "59948e7b",
   "metadata": {},
   "source": [
    "### Busqueda de hiperparametros"
   ]
  },
  {
   "cell_type": "markdown",
   "id": "4c533b19",
   "metadata": {},
   "source": [
    "### Validación"
   ]
  },
  {
   "cell_type": "markdown",
   "id": "1d255ab4",
   "metadata": {},
   "source": [
    "## Resultados"
   ]
  },
  {
   "cell_type": "markdown",
   "id": "c499e431",
   "metadata": {},
   "source": [
    "## Conclusiones"
   ]
  },
  {
   "cell_type": "code",
   "execution_count": null,
   "id": "c2db9a17",
   "metadata": {},
   "outputs": [],
   "source": []
  },
  {
   "cell_type": "code",
   "execution_count": null,
   "id": "0cd9483b",
   "metadata": {
    "scrolled": false
   },
   "outputs": [],
   "source": []
  },
  {
   "cell_type": "code",
   "execution_count": null,
   "id": "db2b4553",
   "metadata": {},
   "outputs": [],
   "source": []
  }
 ],
 "metadata": {
  "kernelspec": {
   "display_name": "env_maestria",
   "language": "python",
   "name": "env_maestria"
  },
  "language_info": {
   "codemirror_mode": {
    "name": "ipython",
    "version": 3
   },
   "file_extension": ".py",
   "mimetype": "text/x-python",
   "name": "python",
   "nbconvert_exporter": "python",
   "pygments_lexer": "ipython3",
   "version": "3.8.10"
  }
 },
 "nbformat": 4,
 "nbformat_minor": 5
}
