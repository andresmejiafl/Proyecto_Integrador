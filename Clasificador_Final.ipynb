{
 "cells": [
  {
   "cell_type": "code",
   "execution_count": 39,
   "id": "b2d871c1",
   "metadata": {},
   "outputs": [],
   "source": [
    "from sklearn.metrics import roc_auc_score, accuracy_score, precision_score, recall_score, f1_score, confusion_matrix\n",
    "from sklearn.metrics import roc_curve, auc\n",
    "from codigos import extract_features, cross_validation, grid_search, preprocessing\n",
    "from sklearn.ensemble import RandomForestClassifier\n",
    "import pandas as pd\n",
    "import numpy as np\n",
    "import xgboost as xgb\n",
    "import lightgbm as lgb\n",
    "import random\n",
    "import matplotlib.pyplot as plt\n",
    "import seaborn as sns\n",
    "import warnings\n",
    "import cv2\n",
    "warnings.filterwarnings('ignore')\n",
    "%matplotlib inline"
   ]
  },
  {
   "cell_type": "code",
   "execution_count": 22,
   "id": "34c7fc80",
   "metadata": {},
   "outputs": [],
   "source": [
    "def metricas(model,X_train, y_train, X_test, y_test):\n",
    "    \n",
    "    y_prob_train = model.predict_proba(X_train)[:,1]\n",
    "    y_prob_test  = model.predict_proba(X_test)[:,1]\n",
    "\n",
    "    y_pred_train = model.predict(X_train)\n",
    "    y_pred_test  = model.predict(X_test)\n",
    "\n",
    "    auc_train = roc_auc_score(y_train, y_prob_train)\n",
    "\n",
    "    accuracy_train = accuracy_score(y_train, y_pred_train)\n",
    "    precision_train = precision_score(y_train, y_pred_train)\n",
    "    recall_train = recall_score(y_train, y_pred_train)\n",
    "    f1_train = f1_score(y_train, y_pred_train)\n",
    "    matrix_train = confusion_matrix(y_train, y_pred_train)\n",
    "\n",
    "    auc_test = roc_auc_score(y_test, y_prob_test)\n",
    "    accuracy_test = accuracy_score(y_test, y_pred_test)\n",
    "    precision_test = precision_score(y_test, y_pred_test)\n",
    "    recall_test = recall_score(y_test, y_pred_test)\n",
    "    f1_test = f1_score(y_test, y_pred_test)\n",
    "    matrix_test = confusion_matrix(y_test, y_pred_test)\n",
    "    \n",
    "    resultados = {\n",
    "        'auc_tr'\t   : [auc_train], \n",
    "        'accuracy_tr'  : [accuracy_train],\n",
    "        'precision_tr' : [precision_train],\n",
    "        'recall_tr'\t   : [recall_train],\n",
    "        'f1_tr'\t\t   : [f1_train],\n",
    "        'Matriz_tr'    : [matrix_train],\n",
    "        'auc_te'\t   : [auc_test], \n",
    "        'accuracy_te'  : [accuracy_test],\n",
    "        'precision_te' : [precision_test],\n",
    "        'recall_te'\t   : [recall_test],\n",
    "        'f1_te'\t\t   : [f1_test],\n",
    "        'Matriz_te'    : [matrix_test]\n",
    "    }\n",
    "\n",
    "    res_df = pd.DataFrame.from_dict(resultados)\n",
    "    \n",
    "    return res_df"
   ]
  },
  {
   "cell_type": "code",
   "execution_count": 31,
   "id": "9c4db2bc",
   "metadata": {},
   "outputs": [],
   "source": [
    "model1 = lgb.LGBMClassifier(learning_rate = 0.14775510204081632,\n",
    "                            n_estimators = 83,\n",
    "                            max_depth = 18,\n",
    "                            min_data_in_leaf = 95,\n",
    "                            n_jobs = -3,\n",
    "                            verbose = -1,\n",
    "                            seed = 42)"
   ]
  },
  {
   "cell_type": "code",
   "execution_count": 32,
   "id": "2df99a1c",
   "metadata": {},
   "outputs": [],
   "source": [
    "model2 = RandomForestClassifier(n_estimators = 42,\n",
    "                                max_depth = 39,\n",
    "                                criterion = 'gini',\n",
    "                                min_samples_leaf = 51,\n",
    "                                n_jobs = -3,\n",
    "                                random_state = 42)"
   ]
  },
  {
   "cell_type": "code",
   "execution_count": 33,
   "id": "9cd4f576",
   "metadata": {},
   "outputs": [],
   "source": [
    "model3 = RandomForestClassifier(n_estimators = 56,\n",
    "                                max_depth = 22,\n",
    "                                criterion = 'entropy',\n",
    "                                min_samples_leaf = 76,\n",
    "                                n_jobs = -3,\n",
    "                                random_state = 42)"
   ]
  },
  {
   "cell_type": "code",
   "execution_count": 5,
   "id": "1b97e733",
   "metadata": {},
   "outputs": [],
   "source": [
    "path1 = r\"C:\\Users\\PC\\Documents\\Dataset_Multiclase\\Modelo1\"\n",
    "path2 = r\"C:\\Users\\PC\\Documents\\Dataset_Multiclase\\Modelo2\"\n",
    "path3 = r\"C:\\Users\\PC\\Documents\\Dataset_Multiclase\\Modelo3\""
   ]
  },
  {
   "cell_type": "code",
   "execution_count": 8,
   "id": "45609dc0",
   "metadata": {},
   "outputs": [
    {
     "name": "stdout",
     "output_type": "stream",
     "text": [
      "******************************************************************** \n",
      "Extracción de caracteristicas por medio de RESNET\n",
      "******************************************************************** \n",
      "Labels: ['cataratas' 'normal']\n",
      "Labels encoded: [0 1]\n",
      "******************************************************************** \n",
      "Extracción de caracteristicas por medio de RESNET finalizada\n",
      "******************************************************************** \n"
     ]
    }
   ],
   "source": [
    "x_train_1, y_train_1, x_test_1, y_test_1 = extract_features.features_resnet(path1)"
   ]
  },
  {
   "cell_type": "code",
   "execution_count": 9,
   "id": "e445b2b5",
   "metadata": {},
   "outputs": [
    {
     "name": "stdout",
     "output_type": "stream",
     "text": [
      "******************************************************************** \n",
      "Extracción de caracteristicas por medio de RESNET\n",
      "******************************************************************** \n",
      "Labels: ['glaucoma' 'normal']\n",
      "Labels encoded: [0 1]\n",
      "******************************************************************** \n",
      "Extracción de caracteristicas por medio de RESNET finalizada\n",
      "******************************************************************** \n"
     ]
    }
   ],
   "source": [
    "x_train_2, y_train_2, x_test_2, y_test_2 = extract_features.features_resnet(path2)"
   ]
  },
  {
   "cell_type": "code",
   "execution_count": 10,
   "id": "8dc9d7cd",
   "metadata": {},
   "outputs": [
    {
     "name": "stdout",
     "output_type": "stream",
     "text": [
      "******************************************************************** \n",
      "Extracción de caracteristicas por medio de VGGNET16\n",
      "******************************************************************** \n",
      "Labels: ['normal' 'retinopatia']\n",
      "Labels encoded: [0 1]\n",
      "18/18 [==============================] - 47s 2s/step\n",
      "6/6 [==============================] - 15s 3s/step\n",
      "******************************************************************** \n",
      "Extracción de caracteristicas por medio de VGGNET16 finalizada\n",
      "******************************************************************** \n"
     ]
    }
   ],
   "source": [
    "x_train_3, y_train_3, x_test_3, y_test_3 = extract_features.features_vgg16(path3)"
   ]
  },
  {
   "cell_type": "code",
   "execution_count": 34,
   "id": "549eb417",
   "metadata": {},
   "outputs": [
    {
     "name": "stdout",
     "output_type": "stream",
     "text": [
      "[LightGBM] [Warning] min_data_in_leaf is set=95, min_child_samples=20 will be ignored. Current value: min_data_in_leaf=95\n"
     ]
    },
    {
     "data": {
      "text/html": [
       "<style>#sk-container-id-5 {color: black;background-color: white;}#sk-container-id-5 pre{padding: 0;}#sk-container-id-5 div.sk-toggleable {background-color: white;}#sk-container-id-5 label.sk-toggleable__label {cursor: pointer;display: block;width: 100%;margin-bottom: 0;padding: 0.3em;box-sizing: border-box;text-align: center;}#sk-container-id-5 label.sk-toggleable__label-arrow:before {content: \"▸\";float: left;margin-right: 0.25em;color: #696969;}#sk-container-id-5 label.sk-toggleable__label-arrow:hover:before {color: black;}#sk-container-id-5 div.sk-estimator:hover label.sk-toggleable__label-arrow:before {color: black;}#sk-container-id-5 div.sk-toggleable__content {max-height: 0;max-width: 0;overflow: hidden;text-align: left;background-color: #f0f8ff;}#sk-container-id-5 div.sk-toggleable__content pre {margin: 0.2em;color: black;border-radius: 0.25em;background-color: #f0f8ff;}#sk-container-id-5 input.sk-toggleable__control:checked~div.sk-toggleable__content {max-height: 200px;max-width: 100%;overflow: auto;}#sk-container-id-5 input.sk-toggleable__control:checked~label.sk-toggleable__label-arrow:before {content: \"▾\";}#sk-container-id-5 div.sk-estimator input.sk-toggleable__control:checked~label.sk-toggleable__label {background-color: #d4ebff;}#sk-container-id-5 div.sk-label input.sk-toggleable__control:checked~label.sk-toggleable__label {background-color: #d4ebff;}#sk-container-id-5 input.sk-hidden--visually {border: 0;clip: rect(1px 1px 1px 1px);clip: rect(1px, 1px, 1px, 1px);height: 1px;margin: -1px;overflow: hidden;padding: 0;position: absolute;width: 1px;}#sk-container-id-5 div.sk-estimator {font-family: monospace;background-color: #f0f8ff;border: 1px dotted black;border-radius: 0.25em;box-sizing: border-box;margin-bottom: 0.5em;}#sk-container-id-5 div.sk-estimator:hover {background-color: #d4ebff;}#sk-container-id-5 div.sk-parallel-item::after {content: \"\";width: 100%;border-bottom: 1px solid gray;flex-grow: 1;}#sk-container-id-5 div.sk-label:hover label.sk-toggleable__label {background-color: #d4ebff;}#sk-container-id-5 div.sk-serial::before {content: \"\";position: absolute;border-left: 1px solid gray;box-sizing: border-box;top: 0;bottom: 0;left: 50%;z-index: 0;}#sk-container-id-5 div.sk-serial {display: flex;flex-direction: column;align-items: center;background-color: white;padding-right: 0.2em;padding-left: 0.2em;position: relative;}#sk-container-id-5 div.sk-item {position: relative;z-index: 1;}#sk-container-id-5 div.sk-parallel {display: flex;align-items: stretch;justify-content: center;background-color: white;position: relative;}#sk-container-id-5 div.sk-item::before, #sk-container-id-5 div.sk-parallel-item::before {content: \"\";position: absolute;border-left: 1px solid gray;box-sizing: border-box;top: 0;bottom: 0;left: 50%;z-index: -1;}#sk-container-id-5 div.sk-parallel-item {display: flex;flex-direction: column;z-index: 1;position: relative;background-color: white;}#sk-container-id-5 div.sk-parallel-item:first-child::after {align-self: flex-end;width: 50%;}#sk-container-id-5 div.sk-parallel-item:last-child::after {align-self: flex-start;width: 50%;}#sk-container-id-5 div.sk-parallel-item:only-child::after {width: 0;}#sk-container-id-5 div.sk-dashed-wrapped {border: 1px dashed gray;margin: 0 0.4em 0.5em 0.4em;box-sizing: border-box;padding-bottom: 0.4em;background-color: white;}#sk-container-id-5 div.sk-label label {font-family: monospace;font-weight: bold;display: inline-block;line-height: 1.2em;}#sk-container-id-5 div.sk-label-container {text-align: center;}#sk-container-id-5 div.sk-container {/* jupyter's `normalize.less` sets `[hidden] { display: none; }` but bootstrap.min.css set `[hidden] { display: none !important; }` so we also need the `!important` here to be able to override the default hidden behavior on the sphinx rendered scikit-learn.org. See: https://github.com/scikit-learn/scikit-learn/issues/21755 */display: inline-block !important;position: relative;}#sk-container-id-5 div.sk-text-repr-fallback {display: none;}</style><div id=\"sk-container-id-5\" class=\"sk-top-container\"><div class=\"sk-text-repr-fallback\"><pre>LGBMClassifier(learning_rate=0.14775510204081632, max_depth=18,\n",
       "               min_data_in_leaf=95, n_estimators=83, n_jobs=-3, seed=42,\n",
       "               verbose=-1)</pre><b>In a Jupyter environment, please rerun this cell to show the HTML representation or trust the notebook. <br />On GitHub, the HTML representation is unable to render, please try loading this page with nbviewer.org.</b></div><div class=\"sk-container\" hidden><div class=\"sk-item\"><div class=\"sk-estimator sk-toggleable\"><input class=\"sk-toggleable__control sk-hidden--visually\" id=\"sk-estimator-id-5\" type=\"checkbox\" checked><label for=\"sk-estimator-id-5\" class=\"sk-toggleable__label sk-toggleable__label-arrow\">LGBMClassifier</label><div class=\"sk-toggleable__content\"><pre>LGBMClassifier(learning_rate=0.14775510204081632, max_depth=18,\n",
       "               min_data_in_leaf=95, n_estimators=83, n_jobs=-3, seed=42,\n",
       "               verbose=-1)</pre></div></div></div></div></div>"
      ],
      "text/plain": [
       "LGBMClassifier(learning_rate=0.14775510204081632, max_depth=18,\n",
       "               min_data_in_leaf=95, n_estimators=83, n_jobs=-3, seed=42,\n",
       "               verbose=-1)"
      ]
     },
     "execution_count": 34,
     "metadata": {},
     "output_type": "execute_result"
    }
   ],
   "source": [
    "model1.fit(x_train_1,y_train_1)"
   ]
  },
  {
   "cell_type": "code",
   "execution_count": 35,
   "id": "448741c8",
   "metadata": {},
   "outputs": [
    {
     "data": {
      "text/html": [
       "<style>#sk-container-id-6 {color: black;background-color: white;}#sk-container-id-6 pre{padding: 0;}#sk-container-id-6 div.sk-toggleable {background-color: white;}#sk-container-id-6 label.sk-toggleable__label {cursor: pointer;display: block;width: 100%;margin-bottom: 0;padding: 0.3em;box-sizing: border-box;text-align: center;}#sk-container-id-6 label.sk-toggleable__label-arrow:before {content: \"▸\";float: left;margin-right: 0.25em;color: #696969;}#sk-container-id-6 label.sk-toggleable__label-arrow:hover:before {color: black;}#sk-container-id-6 div.sk-estimator:hover label.sk-toggleable__label-arrow:before {color: black;}#sk-container-id-6 div.sk-toggleable__content {max-height: 0;max-width: 0;overflow: hidden;text-align: left;background-color: #f0f8ff;}#sk-container-id-6 div.sk-toggleable__content pre {margin: 0.2em;color: black;border-radius: 0.25em;background-color: #f0f8ff;}#sk-container-id-6 input.sk-toggleable__control:checked~div.sk-toggleable__content {max-height: 200px;max-width: 100%;overflow: auto;}#sk-container-id-6 input.sk-toggleable__control:checked~label.sk-toggleable__label-arrow:before {content: \"▾\";}#sk-container-id-6 div.sk-estimator input.sk-toggleable__control:checked~label.sk-toggleable__label {background-color: #d4ebff;}#sk-container-id-6 div.sk-label input.sk-toggleable__control:checked~label.sk-toggleable__label {background-color: #d4ebff;}#sk-container-id-6 input.sk-hidden--visually {border: 0;clip: rect(1px 1px 1px 1px);clip: rect(1px, 1px, 1px, 1px);height: 1px;margin: -1px;overflow: hidden;padding: 0;position: absolute;width: 1px;}#sk-container-id-6 div.sk-estimator {font-family: monospace;background-color: #f0f8ff;border: 1px dotted black;border-radius: 0.25em;box-sizing: border-box;margin-bottom: 0.5em;}#sk-container-id-6 div.sk-estimator:hover {background-color: #d4ebff;}#sk-container-id-6 div.sk-parallel-item::after {content: \"\";width: 100%;border-bottom: 1px solid gray;flex-grow: 1;}#sk-container-id-6 div.sk-label:hover label.sk-toggleable__label {background-color: #d4ebff;}#sk-container-id-6 div.sk-serial::before {content: \"\";position: absolute;border-left: 1px solid gray;box-sizing: border-box;top: 0;bottom: 0;left: 50%;z-index: 0;}#sk-container-id-6 div.sk-serial {display: flex;flex-direction: column;align-items: center;background-color: white;padding-right: 0.2em;padding-left: 0.2em;position: relative;}#sk-container-id-6 div.sk-item {position: relative;z-index: 1;}#sk-container-id-6 div.sk-parallel {display: flex;align-items: stretch;justify-content: center;background-color: white;position: relative;}#sk-container-id-6 div.sk-item::before, #sk-container-id-6 div.sk-parallel-item::before {content: \"\";position: absolute;border-left: 1px solid gray;box-sizing: border-box;top: 0;bottom: 0;left: 50%;z-index: -1;}#sk-container-id-6 div.sk-parallel-item {display: flex;flex-direction: column;z-index: 1;position: relative;background-color: white;}#sk-container-id-6 div.sk-parallel-item:first-child::after {align-self: flex-end;width: 50%;}#sk-container-id-6 div.sk-parallel-item:last-child::after {align-self: flex-start;width: 50%;}#sk-container-id-6 div.sk-parallel-item:only-child::after {width: 0;}#sk-container-id-6 div.sk-dashed-wrapped {border: 1px dashed gray;margin: 0 0.4em 0.5em 0.4em;box-sizing: border-box;padding-bottom: 0.4em;background-color: white;}#sk-container-id-6 div.sk-label label {font-family: monospace;font-weight: bold;display: inline-block;line-height: 1.2em;}#sk-container-id-6 div.sk-label-container {text-align: center;}#sk-container-id-6 div.sk-container {/* jupyter's `normalize.less` sets `[hidden] { display: none; }` but bootstrap.min.css set `[hidden] { display: none !important; }` so we also need the `!important` here to be able to override the default hidden behavior on the sphinx rendered scikit-learn.org. See: https://github.com/scikit-learn/scikit-learn/issues/21755 */display: inline-block !important;position: relative;}#sk-container-id-6 div.sk-text-repr-fallback {display: none;}</style><div id=\"sk-container-id-6\" class=\"sk-top-container\"><div class=\"sk-text-repr-fallback\"><pre>RandomForestClassifier(max_depth=39, min_samples_leaf=51, n_estimators=42,\n",
       "                       n_jobs=-3, random_state=42)</pre><b>In a Jupyter environment, please rerun this cell to show the HTML representation or trust the notebook. <br />On GitHub, the HTML representation is unable to render, please try loading this page with nbviewer.org.</b></div><div class=\"sk-container\" hidden><div class=\"sk-item\"><div class=\"sk-estimator sk-toggleable\"><input class=\"sk-toggleable__control sk-hidden--visually\" id=\"sk-estimator-id-6\" type=\"checkbox\" checked><label for=\"sk-estimator-id-6\" class=\"sk-toggleable__label sk-toggleable__label-arrow\">RandomForestClassifier</label><div class=\"sk-toggleable__content\"><pre>RandomForestClassifier(max_depth=39, min_samples_leaf=51, n_estimators=42,\n",
       "                       n_jobs=-3, random_state=42)</pre></div></div></div></div></div>"
      ],
      "text/plain": [
       "RandomForestClassifier(max_depth=39, min_samples_leaf=51, n_estimators=42,\n",
       "                       n_jobs=-3, random_state=42)"
      ]
     },
     "execution_count": 35,
     "metadata": {},
     "output_type": "execute_result"
    }
   ],
   "source": [
    "model2.fit(x_train_2,y_train_2)"
   ]
  },
  {
   "cell_type": "code",
   "execution_count": 36,
   "id": "e1cdcde7",
   "metadata": {},
   "outputs": [
    {
     "data": {
      "text/html": [
       "<style>#sk-container-id-7 {color: black;background-color: white;}#sk-container-id-7 pre{padding: 0;}#sk-container-id-7 div.sk-toggleable {background-color: white;}#sk-container-id-7 label.sk-toggleable__label {cursor: pointer;display: block;width: 100%;margin-bottom: 0;padding: 0.3em;box-sizing: border-box;text-align: center;}#sk-container-id-7 label.sk-toggleable__label-arrow:before {content: \"▸\";float: left;margin-right: 0.25em;color: #696969;}#sk-container-id-7 label.sk-toggleable__label-arrow:hover:before {color: black;}#sk-container-id-7 div.sk-estimator:hover label.sk-toggleable__label-arrow:before {color: black;}#sk-container-id-7 div.sk-toggleable__content {max-height: 0;max-width: 0;overflow: hidden;text-align: left;background-color: #f0f8ff;}#sk-container-id-7 div.sk-toggleable__content pre {margin: 0.2em;color: black;border-radius: 0.25em;background-color: #f0f8ff;}#sk-container-id-7 input.sk-toggleable__control:checked~div.sk-toggleable__content {max-height: 200px;max-width: 100%;overflow: auto;}#sk-container-id-7 input.sk-toggleable__control:checked~label.sk-toggleable__label-arrow:before {content: \"▾\";}#sk-container-id-7 div.sk-estimator input.sk-toggleable__control:checked~label.sk-toggleable__label {background-color: #d4ebff;}#sk-container-id-7 div.sk-label input.sk-toggleable__control:checked~label.sk-toggleable__label {background-color: #d4ebff;}#sk-container-id-7 input.sk-hidden--visually {border: 0;clip: rect(1px 1px 1px 1px);clip: rect(1px, 1px, 1px, 1px);height: 1px;margin: -1px;overflow: hidden;padding: 0;position: absolute;width: 1px;}#sk-container-id-7 div.sk-estimator {font-family: monospace;background-color: #f0f8ff;border: 1px dotted black;border-radius: 0.25em;box-sizing: border-box;margin-bottom: 0.5em;}#sk-container-id-7 div.sk-estimator:hover {background-color: #d4ebff;}#sk-container-id-7 div.sk-parallel-item::after {content: \"\";width: 100%;border-bottom: 1px solid gray;flex-grow: 1;}#sk-container-id-7 div.sk-label:hover label.sk-toggleable__label {background-color: #d4ebff;}#sk-container-id-7 div.sk-serial::before {content: \"\";position: absolute;border-left: 1px solid gray;box-sizing: border-box;top: 0;bottom: 0;left: 50%;z-index: 0;}#sk-container-id-7 div.sk-serial {display: flex;flex-direction: column;align-items: center;background-color: white;padding-right: 0.2em;padding-left: 0.2em;position: relative;}#sk-container-id-7 div.sk-item {position: relative;z-index: 1;}#sk-container-id-7 div.sk-parallel {display: flex;align-items: stretch;justify-content: center;background-color: white;position: relative;}#sk-container-id-7 div.sk-item::before, #sk-container-id-7 div.sk-parallel-item::before {content: \"\";position: absolute;border-left: 1px solid gray;box-sizing: border-box;top: 0;bottom: 0;left: 50%;z-index: -1;}#sk-container-id-7 div.sk-parallel-item {display: flex;flex-direction: column;z-index: 1;position: relative;background-color: white;}#sk-container-id-7 div.sk-parallel-item:first-child::after {align-self: flex-end;width: 50%;}#sk-container-id-7 div.sk-parallel-item:last-child::after {align-self: flex-start;width: 50%;}#sk-container-id-7 div.sk-parallel-item:only-child::after {width: 0;}#sk-container-id-7 div.sk-dashed-wrapped {border: 1px dashed gray;margin: 0 0.4em 0.5em 0.4em;box-sizing: border-box;padding-bottom: 0.4em;background-color: white;}#sk-container-id-7 div.sk-label label {font-family: monospace;font-weight: bold;display: inline-block;line-height: 1.2em;}#sk-container-id-7 div.sk-label-container {text-align: center;}#sk-container-id-7 div.sk-container {/* jupyter's `normalize.less` sets `[hidden] { display: none; }` but bootstrap.min.css set `[hidden] { display: none !important; }` so we also need the `!important` here to be able to override the default hidden behavior on the sphinx rendered scikit-learn.org. See: https://github.com/scikit-learn/scikit-learn/issues/21755 */display: inline-block !important;position: relative;}#sk-container-id-7 div.sk-text-repr-fallback {display: none;}</style><div id=\"sk-container-id-7\" class=\"sk-top-container\"><div class=\"sk-text-repr-fallback\"><pre>RandomForestClassifier(criterion=&#x27;entropy&#x27;, max_depth=22, min_samples_leaf=76,\n",
       "                       n_estimators=56, n_jobs=-3, random_state=42)</pre><b>In a Jupyter environment, please rerun this cell to show the HTML representation or trust the notebook. <br />On GitHub, the HTML representation is unable to render, please try loading this page with nbviewer.org.</b></div><div class=\"sk-container\" hidden><div class=\"sk-item\"><div class=\"sk-estimator sk-toggleable\"><input class=\"sk-toggleable__control sk-hidden--visually\" id=\"sk-estimator-id-7\" type=\"checkbox\" checked><label for=\"sk-estimator-id-7\" class=\"sk-toggleable__label sk-toggleable__label-arrow\">RandomForestClassifier</label><div class=\"sk-toggleable__content\"><pre>RandomForestClassifier(criterion=&#x27;entropy&#x27;, max_depth=22, min_samples_leaf=76,\n",
       "                       n_estimators=56, n_jobs=-3, random_state=42)</pre></div></div></div></div></div>"
      ],
      "text/plain": [
       "RandomForestClassifier(criterion='entropy', max_depth=22, min_samples_leaf=76,\n",
       "                       n_estimators=56, n_jobs=-3, random_state=42)"
      ]
     },
     "execution_count": 36,
     "metadata": {},
     "output_type": "execute_result"
    }
   ],
   "source": [
    "model3.fit(x_train_3,y_train_3)"
   ]
  },
  {
   "cell_type": "code",
   "execution_count": 37,
   "id": "72080484",
   "metadata": {},
   "outputs": [],
   "source": [
    "metricas_m1 = metricas(model1, x_train_1, y_train_1, x_test_1, y_test_1)\n",
    "metricas_m2 = metricas(model2, x_train_2, y_train_2, x_test_2, y_test_2)\n",
    "metricas_m3 = metricas(model3, x_train_3, y_train_3, x_test_3, y_test_3)"
   ]
  },
  {
   "cell_type": "code",
   "execution_count": 38,
   "id": "def3c04c",
   "metadata": {},
   "outputs": [
    {
     "data": {
      "text/html": [
       "<div>\n",
       "<style scoped>\n",
       "    .dataframe tbody tr th:only-of-type {\n",
       "        vertical-align: middle;\n",
       "    }\n",
       "\n",
       "    .dataframe tbody tr th {\n",
       "        vertical-align: top;\n",
       "    }\n",
       "\n",
       "    .dataframe thead th {\n",
       "        text-align: right;\n",
       "    }\n",
       "</style>\n",
       "<table border=\"1\" class=\"dataframe\">\n",
       "  <thead>\n",
       "    <tr style=\"text-align: right;\">\n",
       "      <th></th>\n",
       "      <th>auc_tr</th>\n",
       "      <th>accuracy_tr</th>\n",
       "      <th>precision_tr</th>\n",
       "      <th>recall_tr</th>\n",
       "      <th>f1_tr</th>\n",
       "      <th>Matriz_tr</th>\n",
       "      <th>auc_te</th>\n",
       "      <th>accuracy_te</th>\n",
       "      <th>precision_te</th>\n",
       "      <th>recall_te</th>\n",
       "      <th>f1_te</th>\n",
       "      <th>Matriz_te</th>\n",
       "    </tr>\n",
       "  </thead>\n",
       "  <tbody>\n",
       "    <tr>\n",
       "      <th>0</th>\n",
       "      <td>1.000000</td>\n",
       "      <td>1.000000</td>\n",
       "      <td>1.000000</td>\n",
       "      <td>1.000000</td>\n",
       "      <td>1.000000</td>\n",
       "      <td>[[271, 0], [0, 271]]</td>\n",
       "      <td>0.991668</td>\n",
       "      <td>0.939560</td>\n",
       "      <td>0.944444</td>\n",
       "      <td>0.934066</td>\n",
       "      <td>0.939227</td>\n",
       "      <td>[[86, 5], [6, 85]]</td>\n",
       "    </tr>\n",
       "    <tr>\n",
       "      <th>0</th>\n",
       "      <td>0.916661</td>\n",
       "      <td>0.839286</td>\n",
       "      <td>0.833724</td>\n",
       "      <td>0.847619</td>\n",
       "      <td>0.840614</td>\n",
       "      <td>[[349, 71], [64, 356]]</td>\n",
       "      <td>0.877449</td>\n",
       "      <td>0.814286</td>\n",
       "      <td>0.818841</td>\n",
       "      <td>0.807143</td>\n",
       "      <td>0.812950</td>\n",
       "      <td>[[115, 25], [27, 113]]</td>\n",
       "    </tr>\n",
       "    <tr>\n",
       "      <th>0</th>\n",
       "      <td>0.898321</td>\n",
       "      <td>0.795290</td>\n",
       "      <td>0.859031</td>\n",
       "      <td>0.706522</td>\n",
       "      <td>0.775348</td>\n",
       "      <td>[[244, 32], [81, 195]]</td>\n",
       "      <td>0.886808</td>\n",
       "      <td>0.817204</td>\n",
       "      <td>0.864198</td>\n",
       "      <td>0.752688</td>\n",
       "      <td>0.804598</td>\n",
       "      <td>[[82, 11], [23, 70]]</td>\n",
       "    </tr>\n",
       "  </tbody>\n",
       "</table>\n",
       "</div>"
      ],
      "text/plain": [
       "     auc_tr  accuracy_tr  precision_tr  recall_tr     f1_tr  \\\n",
       "0  1.000000     1.000000      1.000000   1.000000  1.000000   \n",
       "0  0.916661     0.839286      0.833724   0.847619  0.840614   \n",
       "0  0.898321     0.795290      0.859031   0.706522  0.775348   \n",
       "\n",
       "                Matriz_tr    auc_te  accuracy_te  precision_te  recall_te  \\\n",
       "0    [[271, 0], [0, 271]]  0.991668     0.939560      0.944444   0.934066   \n",
       "0  [[349, 71], [64, 356]]  0.877449     0.814286      0.818841   0.807143   \n",
       "0  [[244, 32], [81, 195]]  0.886808     0.817204      0.864198   0.752688   \n",
       "\n",
       "      f1_te               Matriz_te  \n",
       "0  0.939227      [[86, 5], [6, 85]]  \n",
       "0  0.812950  [[115, 25], [27, 113]]  \n",
       "0  0.804598    [[82, 11], [23, 70]]  "
      ]
     },
     "execution_count": 38,
     "metadata": {},
     "output_type": "execute_result"
    }
   ],
   "source": [
    "pd.concat([metricas_m1,metricas_m2,metricas_m3],axis=0)"
   ]
  },
  {
   "cell_type": "code",
   "execution_count": 48,
   "id": "b6a6298a",
   "metadata": {},
   "outputs": [
    {
     "data": {
      "image/png": "[encoded data removed]",
      "text/plain": [
       "<Figure size 800x600 with 1 Axes>"
      ]
     },
     "metadata": {},
     "output_type": "display_data"
    }
   ],
   "source": [
    "# Obtener las probabilidades de predicción para los datos de prueba\n",
    "y_probs1 = model1.predict_proba(x_test_1)[:, 1]\n",
    "y_probs2 = model2.predict_proba(x_test_2)[:, 1]\n",
    "y_probs3 = model3.predict_proba(x_test_3)[:, 1]\n",
    "\n",
    "# Calcular la tasa de falsos positivos, la tasa de verdaderos positivos y los umbrales para cada modelo\n",
    "fpr1, tpr1, _ = roc_curve(y_test_1, y_probs1)\n",
    "roc_auc1 = auc(fpr1, tpr1)\n",
    "\n",
    "fpr2, tpr2, _ = roc_curve(y_test_2, y_probs2)\n",
    "roc_auc2 = auc(fpr2, tpr2)\n",
    "\n",
    "fpr3, tpr3, _ = roc_curve(y_test_3, y_probs3)\n",
    "roc_auc3 = auc(fpr3, tpr3)\n",
    "\n",
    "# Graficar las curvas AUC-ROC\n",
    "plt.figure(figsize=(8, 6))\n",
    "plt.plot(fpr1, tpr1, label='Modelo 1 (AUC = %0.2f)' % roc_auc1)\n",
    "plt.plot(fpr2, tpr2, label='Modelo 2 (AUC = %0.2f)' % roc_auc2)\n",
    "plt.plot(fpr3, tpr3, label='Modelo 3 (AUC = %0.2f)' % roc_auc3)\n",
    "plt.plot([0, 1], [0, 1], 'k--')\n",
    "plt.xlim([0.0, 1.0])\n",
    "plt.ylim([0.0, 1.05])\n",
    "plt.xlabel('Tasa de Falsos Positivos')\n",
    "plt.ylabel('Tasa de Verdaderos Positivos')\n",
    "plt.title('Curvas AUC-ROC')\n",
    "plt.legend(loc=\"lower right\")\n",
    "plt.show()\n"
   ]
  },
  {
   "cell_type": "code",
   "execution_count": null,
   "id": "dafc9d98",
   "metadata": {},
   "outputs": [],
   "source": []
  }
 ],
 "metadata": {
  "kernelspec": {
   "display_name": "env_maestria",
   "language": "python",
   "name": "env_maestria"
  },
  "language_info": {
   "codemirror_mode": {
    "name": "ipython",
    "version": 3
   },
   "file_extension": ".py",
   "mimetype": "text/x-python",
   "name": "python",
   "nbconvert_exporter": "python",
   "pygments_lexer": "ipython3",
   "version": "3.8.10"
  }
 },
 "nbformat": 4,
 "nbformat_minor": 5
}
