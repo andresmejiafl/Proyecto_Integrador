{
 "cells": [
  {
   "cell_type": "code",
   "execution_count": 1,
   "id": "0d87f442",
   "metadata": {},
   "outputs": [],
   "source": [
    "from sklearn.metrics import roc_auc_score, accuracy_score, precision_score, recall_score, f1_score, confusion_matrix\n",
    "from sklearn.ensemble import RandomForestClassifier\n",
    "import pandas as pd\n",
    "import numpy as np\n",
    "import xgboost as xgb\n",
    "import lightgbm as lgb\n",
    "import random"
   ]
  },
  {
   "cell_type": "code",
   "execution_count": null,
   "id": "50330846",
   "metadata": {},
   "outputs": [],
   "source": [
    "model1 = lgb.LGBMClassifier(learning_rate = hyperparameters['learning_rate'],\n",
    "                            n_estimators = hyperparameters['n_estimators'],\n",
    "                            max_depth = hyperparameters['max_depth'],\n",
    "                            min_data_in_leaf = hyperparameters['min_data_in_leaf'],\n",
    "                            n_jobs = -3,\n",
    "                            verbose = -1,\n",
    "                            seed = 42)\n",
    "\n",
    "model1 = RandomForestClassifier(n_estimators = hyperparameters['n_estimators'],\n",
    "                                max_depth = hyperparameters['max_depth'],\n",
    "                                criterion = hyperparameters['criterion'],\n",
    "                                min_samples_leaf = hyperparameters['min_samples_leaf'],\n",
    "                                n_jobs = -3,\n",
    "                                random_state = 42)"
   ]
  },
  {
   "cell_type": "code",
   "execution_count": null,
   "id": "9fc129b8",
   "metadata": {},
   "outputs": [],
   "source": []
  }
 ],
 "metadata": {
  "kernelspec": {
   "display_name": "env_maestria",
   "language": "python",
   "name": "env_maestria"
  },
  "language_info": {
   "codemirror_mode": {
    "name": "ipython",
    "version": 3
   },
   "file_extension": ".py",
   "mimetype": "text/x-python",
   "name": "python",
   "nbconvert_exporter": "python",
   "pygments_lexer": "ipython3",
   "version": "3.8.10"
  }
 },
 "nbformat": 4,
 "nbformat_minor": 5
}
