{
 "cells": [
  {
   "cell_type": "code",
   "execution_count": 37,
   "id": "f32506c9",
   "metadata": {},
   "outputs": [
    {
     "name": "stdout",
     "output_type": "stream",
     "text": [
      "The autoreload extension is already loaded. To reload it, use:\n",
      "  %reload_ext autoreload\n"
     ]
    }
   ],
   "source": [
    "%load_ext autoreload\n",
    "%reload_ext autoreload\n",
    "%autoreload 2"
   ]
  },
  {
   "cell_type": "code",
   "execution_count": 38,
   "id": "2c2faf7e",
   "metadata": {},
   "outputs": [],
   "source": [
    "import matplotlib.pyplot as plt\n",
    "import pandas as pd\n",
    "import numpy as np\n",
    "import warnings\n",
    "from codigos import extract_features, cross_validation\n",
    "\n",
    "%matplotlib inline\n",
    "warnings.filterwarnings('ignore')"
   ]
  },
  {
   "cell_type": "code",
   "execution_count": 3,
   "id": "225defde",
   "metadata": {},
   "outputs": [],
   "source": [
    "path = \"C:/Users/PC/Documents/Eye_diseases_dataset/\""
   ]
  },
  {
   "cell_type": "code",
   "execution_count": 4,
   "id": "8b44c7fe",
   "metadata": {
    "scrolled": true
   },
   "outputs": [
    {
     "name": "stdout",
     "output_type": "stream",
     "text": [
      "******************************************************************** \n",
      "Feature extraction using vggnet16\n",
      "******************************************************************** \n",
      "Labels: ['cataratas' 'glaucoma' 'normal' 'retinopatia']\n",
      "Labels encoded: [0 1 2 3]\n",
      "15/15 [==============================] - 40s 3s/step\n",
      "4/4 [==============================] - 10s 2s/step\n",
      "******************************************************************** \n",
      "Feature extraction finished\n",
      "******************************************************************** \n"
     ]
    }
   ],
   "source": [
    "x_train, y_train, x_test, y_test = extract_features.features_vgg16(path)"
   ]
  },
  {
   "cell_type": "code",
   "execution_count": 39,
   "id": "ab6d44f3",
   "metadata": {},
   "outputs": [
    {
     "name": "stdout",
     "output_type": "stream",
     "text": [
      "******************************************************************** \n",
      "Iniciando torneo de modelos con validación cruzada\n",
      "******************************************************************** \n",
      "Modelo: Random Forest\n",
      "Modelo: Naive Bayes\n",
      "Modelo: SVM\n",
      "Modelo: LGBM\n",
      "Modelo: XGBoost\n",
      "******************************************************************** \n",
      "Compare models finished\n",
      "******************************************************************** \n"
     ]
    }
   ],
   "source": [
    "models_cv = cross_validation.compare_models(x_train, y_train, 5)"
   ]
  },
  {
   "cell_type": "code",
   "execution_count": 40,
   "id": "5529a402",
   "metadata": {},
   "outputs": [
    {
     "data": {
      "text/html": [
       "<div>\n",
       "<style scoped>\n",
       "    .dataframe tbody tr th:only-of-type {\n",
       "        vertical-align: middle;\n",
       "    }\n",
       "\n",
       "    .dataframe tbody tr th {\n",
       "        vertical-align: top;\n",
       "    }\n",
       "\n",
       "    .dataframe thead th {\n",
       "        text-align: right;\n",
       "    }\n",
       "</style>\n",
       "<table border=\"1\" class=\"dataframe\">\n",
       "  <thead>\n",
       "    <tr style=\"text-align: right;\">\n",
       "      <th></th>\n",
       "      <th>Model</th>\n",
       "      <th>Train Accuracy</th>\n",
       "      <th>Train precision_macro</th>\n",
       "      <th>Train recall_macro</th>\n",
       "      <th>Train f1_macro</th>\n",
       "      <th>Train AUC-ROC</th>\n",
       "      <th>Test Accuracy</th>\n",
       "      <th>Test precision_macro</th>\n",
       "      <th>Test recall_macro</th>\n",
       "      <th>Test f1_macro</th>\n",
       "      <th>Test AUC-ROC</th>\n",
       "    </tr>\n",
       "  </thead>\n",
       "  <tbody>\n",
       "    <tr>\n",
       "      <th>0</th>\n",
       "      <td>Random Forest</td>\n",
       "      <td>1.000000</td>\n",
       "      <td>1.000000</td>\n",
       "      <td>1.000000</td>\n",
       "      <td>1.000000</td>\n",
       "      <td>1.000000</td>\n",
       "      <td>0.591667</td>\n",
       "      <td>0.488485</td>\n",
       "      <td>0.420833</td>\n",
       "      <td>0.396782</td>\n",
       "      <td>0.739993</td>\n",
       "    </tr>\n",
       "    <tr>\n",
       "      <th>1</th>\n",
       "      <td>Naive Bayes</td>\n",
       "      <td>0.929688</td>\n",
       "      <td>0.911184</td>\n",
       "      <td>0.955469</td>\n",
       "      <td>0.929024</td>\n",
       "      <td>0.969911</td>\n",
       "      <td>0.481250</td>\n",
       "      <td>0.463116</td>\n",
       "      <td>0.398958</td>\n",
       "      <td>0.409685</td>\n",
       "      <td>0.596458</td>\n",
       "    </tr>\n",
       "    <tr>\n",
       "      <th>2</th>\n",
       "      <td>SVM</td>\n",
       "      <td>0.500000</td>\n",
       "      <td>0.125000</td>\n",
       "      <td>0.250000</td>\n",
       "      <td>0.166667</td>\n",
       "      <td>0.893199</td>\n",
       "      <td>0.500000</td>\n",
       "      <td>0.125000</td>\n",
       "      <td>0.250000</td>\n",
       "      <td>0.166667</td>\n",
       "      <td>0.767730</td>\n",
       "    </tr>\n",
       "    <tr>\n",
       "      <th>3</th>\n",
       "      <td>LGBM</td>\n",
       "      <td>1.000000</td>\n",
       "      <td>1.000000</td>\n",
       "      <td>1.000000</td>\n",
       "      <td>1.000000</td>\n",
       "      <td>1.000000</td>\n",
       "      <td>0.591667</td>\n",
       "      <td>0.489946</td>\n",
       "      <td>0.454167</td>\n",
       "      <td>0.441554</td>\n",
       "      <td>0.750681</td>\n",
       "    </tr>\n",
       "    <tr>\n",
       "      <th>4</th>\n",
       "      <td>XGBoost</td>\n",
       "      <td>1.000000</td>\n",
       "      <td>1.000000</td>\n",
       "      <td>1.000000</td>\n",
       "      <td>1.000000</td>\n",
       "      <td>1.000000</td>\n",
       "      <td>0.591667</td>\n",
       "      <td>0.511623</td>\n",
       "      <td>0.470833</td>\n",
       "      <td>0.461867</td>\n",
       "      <td>0.745747</td>\n",
       "    </tr>\n",
       "  </tbody>\n",
       "</table>\n",
       "</div>"
      ],
      "text/plain": [
       "           Model  Train Accuracy  Train precision_macro  Train recall_macro  \\\n",
       "0  Random Forest        1.000000               1.000000            1.000000   \n",
       "1    Naive Bayes        0.929688               0.911184            0.955469   \n",
       "2            SVM        0.500000               0.125000            0.250000   \n",
       "3           LGBM        1.000000               1.000000            1.000000   \n",
       "4        XGBoost        1.000000               1.000000            1.000000   \n",
       "\n",
       "   Train f1_macro  Train AUC-ROC  Test Accuracy  Test precision_macro  \\\n",
       "0        1.000000       1.000000       0.591667              0.488485   \n",
       "1        0.929024       0.969911       0.481250              0.463116   \n",
       "2        0.166667       0.893199       0.500000              0.125000   \n",
       "3        1.000000       1.000000       0.591667              0.489946   \n",
       "4        1.000000       1.000000       0.591667              0.511623   \n",
       "\n",
       "   Test recall_macro  Test f1_macro  Test AUC-ROC  \n",
       "0           0.420833       0.396782      0.739993  \n",
       "1           0.398958       0.409685      0.596458  \n",
       "2           0.250000       0.166667      0.767730  \n",
       "3           0.454167       0.441554      0.750681  \n",
       "4           0.470833       0.461867      0.745747  "
      ]
     },
     "execution_count": 40,
     "metadata": {},
     "output_type": "execute_result"
    }
   ],
   "source": [
    "models_cv"
   ]
  }
 ],
 "metadata": {
  "kernelspec": {
   "display_name": "env_maestria",
   "language": "python",
   "name": "env_maestria"
  },
  "language_info": {
   "codemirror_mode": {
    "name": "ipython",
    "version": 3
   },
   "file_extension": ".py",
   "mimetype": "text/x-python",
   "name": "python",
   "nbconvert_exporter": "python",
   "pygments_lexer": "ipython3",
   "version": "3.8.10"
  }
 },
 "nbformat": 4,
 "nbformat_minor": 5
}
