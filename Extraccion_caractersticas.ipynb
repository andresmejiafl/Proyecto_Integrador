{
 "cells": [
  {
   "cell_type": "code",
   "execution_count": null,
   "metadata": {
    "id": "qetz-iEnIZk3"
   },
   "outputs": [],
   "source": [
    "import os\n",
    "import pandas as pd\n",
    "import numpy as np\n",
    "from PIL import Image\n",
    "from sklearn.svm import SVC\n",
    "from sklearn.model_selection import train_test_split\n",
    "from sklearn.metrics import accuracy_score\n",
    "from sklearn.preprocessing import StandardScaler\n",
    "from sklearn.decomposition import PCA\n",
    "import torchvision.transforms as transforms\n",
    "import torchvision.models as models"
   ]
  },
  {
   "cell_type": "code",
   "execution_count": null,
   "metadata": {
    "id": "HWWHDNORIaVJ"
   },
   "outputs": [],
   "source": [
    "labels_path = '/content/drive/MyDrive/Proyecto_integrador/dataset.csv'\n",
    "labels_df = pd.read_csv(labels_file, sep=';')\n",
    "image_dir = '/content/drive/MyDrive/Proyecto_integrador/Imagenes'"
   ]
  },
  {
   "cell_type": "code",
   "execution_count": null,
   "metadata": {
    "id": "49sJ7p1XIbvv"
   },
   "outputs": [],
   "source": [
    "image_paths = []\n",
    "image_labels = []\n",
    "\n",
    "for filename in os.listdir(image_dir):\n",
    "    if filename.endswith('.png'):  \n",
    "        image_path = os.path.join(image_dir, filename)\n",
    "        matching_labels = labels_df[labels_df['source'] == filename]['target'].values\n",
    "        if len(matching_labels) > 0:\n",
    "            label = matching_labels[0]\n",
    "            image_paths.append(image_path)\n",
    "            image_labels.append(label)\n",
    "        else:\n",
    "            print(f\"No se encontró etiqueta para el archivo: {filename}. Omitiendo esta imagen.\")"
   ]
  },
  {
   "cell_type": "code",
   "execution_count": null,
   "metadata": {
    "id": "beW6L2pdIeb4"
   },
   "outputs": [],
   "source": [
    "resnet = models.resnet50(pretrained=True)\n",
    "resnet = resnet.eval()\n",
    "resnet = torch.nn.Sequential(*list(resnet.children())[:-1])"
   ]
  },
  {
   "cell_type": "code",
   "execution_count": null,
   "metadata": {
    "id": "rMJY3oiWIgB5"
   },
   "outputs": [],
   "source": [
    "def extract_features(image_path):\n",
    "    image = Image.open(image_path).convert('RGB')\n",
    "    preprocess = transforms.Compose([\n",
    "        transforms.Resize(256),\n",
    "        transforms.CenterCrop(224),\n",
    "        transforms.ToTensor(),\n",
    "        transforms.Normalize(mean=[0.485, 0.456, 0.406], std=[0.229, 0.224, 0.225]),\n",
    "    ])\n",
    "    image = preprocess(image)\n",
    "    image = image.unsqueeze(0)\n",
    "    features = resnet(image)\n",
    "    features = features.squeeze().detach().numpy()\n",
    "    return features"
   ]
  },
  {
   "cell_type": "code",
   "execution_count": null,
   "metadata": {
    "id": "iiJG5RCOIh1h"
   },
   "outputs": [],
   "source": [
    "features = []\n",
    "for image_path in image_paths:\n",
    "    feature = extract_features(image_path)\n",
    "    features.append(feature)\n",
    "features = np.array(features)"
   ]
  }
 ],
 "metadata": {
  "colab": {
   "provenance": []
  },
  "kernelspec": {
   "display_name": "Python 3 (ipykernel)",
   "language": "python",
   "name": "python3"
  },
  "language_info": {
   "codemirror_mode": {
    "name": "ipython",
    "version": 3
   },
   "file_extension": ".py",
   "mimetype": "text/x-python",
   "name": "python",
   "nbconvert_exporter": "python",
   "pygments_lexer": "ipython3",
   "version": "3.8.10"
  }
 },
 "nbformat": 4,
 "nbformat_minor": 1
}
