{
 "cells": [
  {
   "cell_type": "code",
   "execution_count": 1,
   "id": "8c2ac9ec",
   "metadata": {},
   "outputs": [],
   "source": [
    "%load_ext autoreload\n",
    "%reload_ext autoreload\n",
    "%autoreload 2"
   ]
  },
  {
   "cell_type": "code",
   "execution_count": 2,
   "id": "2d58d428",
   "metadata": {},
   "outputs": [],
   "source": [
    "from codigos import extract_features, cross_validation, grid_search, preprocessing\n",
    "import matplotlib.pyplot as plt\n",
    "import pandas as pd\n",
    "import numpy as np\n",
    "import warnings\n",
    "import cv2\n",
    "warnings.filterwarnings('ignore')\n",
    "%matplotlib inline"
   ]
  },
  {
   "cell_type": "code",
   "execution_count": 3,
   "id": "eefb2998",
   "metadata": {},
   "outputs": [],
   "source": [
    "path = \"C:/Users/PC/Documents/Eye_diseases_dataset/binario\"\n",
    "path_gray = \"C:/Users/PC/Documents/Eye_diseases_dataset/gray\"\n",
    "path_equa = \"C:/Users/PC/Documents/Eye_diseases_dataset/equalizer\""
   ]
  },
  {
   "cell_type": "markdown",
   "id": "a0ae1eec",
   "metadata": {},
   "source": [
    "# Iteración 0"
   ]
  },
  {
   "cell_type": "markdown",
   "id": "21806467",
   "metadata": {},
   "source": [
    "## Imagenes originales"
   ]
  },
  {
   "cell_type": "markdown",
   "id": "82e51a51",
   "metadata": {},
   "source": [
    "## Vggnet16"
   ]
  },
  {
   "cell_type": "code",
   "execution_count": 4,
   "id": "17cf40bc",
   "metadata": {
    "scrolled": true
   },
   "outputs": [
    {
     "name": "stdout",
     "output_type": "stream",
     "text": [
      "******************************************************************** \n",
      "Extracción de caracteristicas por medio de VGGNET16\n",
      "******************************************************************** \n",
      "Labels: ['enfermo' 'normal']\n",
      "Labels encoded: [0 1]\n",
      "15/15 [==============================] - 37s 2s/step\n",
      "4/4 [==============================] - 10s 2s/step\n",
      "******************************************************************** \n",
      "Extracción de caracteristicas por medio de VGGNET16 finalizada\n",
      "******************************************************************** \n"
     ]
    }
   ],
   "source": [
    "x_train_vggnet, y_train_vggnet, x_test_vggnet, y_test_vggnet = extract_features.features_vgg16(path)"
   ]
  },
  {
   "cell_type": "code",
   "execution_count": 5,
   "id": "670f4c75",
   "metadata": {},
   "outputs": [
    {
     "name": "stdout",
     "output_type": "stream",
     "text": [
      "******************************************************************** \n",
      "Iniciando torneo de modelos con validación cruzada\n",
      "******************************************************************** \n",
      "Modelo: Random Forest\n",
      "Modelo: Naive Bayes\n",
      "Modelo: SVM\n",
      "Modelo: LGBM\n",
      "Modelo: XGBoost\n",
      "******************************************************************** \n",
      "Finalizando torneo de modelos con validación cruzada\n",
      "******************************************************************** \n"
     ]
    }
   ],
   "source": [
    "models_cv = cross_validation.compare_models(x_train_vggnet, y_train_vggnet, 5)"
   ]
  },
  {
   "cell_type": "code",
   "execution_count": 6,
   "id": "79ef2754",
   "metadata": {},
   "outputs": [
    {
     "data": {
      "text/html": [
       "<div>\n",
       "<style scoped>\n",
       "    .dataframe tbody tr th:only-of-type {\n",
       "        vertical-align: middle;\n",
       "    }\n",
       "\n",
       "    .dataframe tbody tr th {\n",
       "        vertical-align: top;\n",
       "    }\n",
       "\n",
       "    .dataframe thead th {\n",
       "        text-align: right;\n",
       "    }\n",
       "</style>\n",
       "<table border=\"1\" class=\"dataframe\">\n",
       "  <thead>\n",
       "    <tr style=\"text-align: right;\">\n",
       "      <th></th>\n",
       "      <th>Model</th>\n",
       "      <th>Train Accuracy</th>\n",
       "      <th>Train precision_macro</th>\n",
       "      <th>Train recall_macro</th>\n",
       "      <th>Train f1_macro</th>\n",
       "      <th>Train AUC-ROC</th>\n",
       "      <th>Test Accuracy</th>\n",
       "      <th>Test precision_macro</th>\n",
       "      <th>Test recall_macro</th>\n",
       "      <th>Test f1_macro</th>\n",
       "      <th>Test AUC-ROC</th>\n",
       "    </tr>\n",
       "  </thead>\n",
       "  <tbody>\n",
       "    <tr>\n",
       "      <th>0</th>\n",
       "      <td>Random Forest</td>\n",
       "      <td>1.000000</td>\n",
       "      <td>1.000000</td>\n",
       "      <td>1.000000</td>\n",
       "      <td>1.000000</td>\n",
       "      <td>1.000000</td>\n",
       "      <td>0.641667</td>\n",
       "      <td>0.664575</td>\n",
       "      <td>0.641667</td>\n",
       "      <td>0.627295</td>\n",
       "      <td>0.700911</td>\n",
       "    </tr>\n",
       "    <tr>\n",
       "      <th>1</th>\n",
       "      <td>Naive Bayes</td>\n",
       "      <td>0.929688</td>\n",
       "      <td>0.937329</td>\n",
       "      <td>0.929688</td>\n",
       "      <td>0.929357</td>\n",
       "      <td>0.936618</td>\n",
       "      <td>0.583333</td>\n",
       "      <td>0.589030</td>\n",
       "      <td>0.583333</td>\n",
       "      <td>0.579077</td>\n",
       "      <td>0.578906</td>\n",
       "    </tr>\n",
       "    <tr>\n",
       "      <th>2</th>\n",
       "      <td>SVM</td>\n",
       "      <td>0.685937</td>\n",
       "      <td>0.689249</td>\n",
       "      <td>0.685937</td>\n",
       "      <td>0.684514</td>\n",
       "      <td>0.728703</td>\n",
       "      <td>0.633333</td>\n",
       "      <td>0.643514</td>\n",
       "      <td>0.633333</td>\n",
       "      <td>0.623024</td>\n",
       "      <td>0.670964</td>\n",
       "    </tr>\n",
       "    <tr>\n",
       "      <th>3</th>\n",
       "      <td>LGBM</td>\n",
       "      <td>1.000000</td>\n",
       "      <td>1.000000</td>\n",
       "      <td>1.000000</td>\n",
       "      <td>1.000000</td>\n",
       "      <td>1.000000</td>\n",
       "      <td>0.631250</td>\n",
       "      <td>0.641383</td>\n",
       "      <td>0.631250</td>\n",
       "      <td>0.623330</td>\n",
       "      <td>0.706684</td>\n",
       "    </tr>\n",
       "    <tr>\n",
       "      <th>4</th>\n",
       "      <td>XGBoost</td>\n",
       "      <td>1.000000</td>\n",
       "      <td>1.000000</td>\n",
       "      <td>1.000000</td>\n",
       "      <td>1.000000</td>\n",
       "      <td>1.000000</td>\n",
       "      <td>0.658333</td>\n",
       "      <td>0.665543</td>\n",
       "      <td>0.658333</td>\n",
       "      <td>0.654844</td>\n",
       "      <td>0.706250</td>\n",
       "    </tr>\n",
       "  </tbody>\n",
       "</table>\n",
       "</div>"
      ],
      "text/plain": [
       "           Model  Train Accuracy  Train precision_macro  Train recall_macro  \\\n",
       "0  Random Forest        1.000000               1.000000            1.000000   \n",
       "1    Naive Bayes        0.929688               0.937329            0.929688   \n",
       "2            SVM        0.685937               0.689249            0.685937   \n",
       "3           LGBM        1.000000               1.000000            1.000000   \n",
       "4        XGBoost        1.000000               1.000000            1.000000   \n",
       "\n",
       "   Train f1_macro  Train AUC-ROC  Test Accuracy  Test precision_macro  \\\n",
       "0        1.000000       1.000000       0.641667              0.664575   \n",
       "1        0.929357       0.936618       0.583333              0.589030   \n",
       "2        0.684514       0.728703       0.633333              0.643514   \n",
       "3        1.000000       1.000000       0.631250              0.641383   \n",
       "4        1.000000       1.000000       0.658333              0.665543   \n",
       "\n",
       "   Test recall_macro  Test f1_macro  Test AUC-ROC  \n",
       "0           0.641667       0.627295      0.700911  \n",
       "1           0.583333       0.579077      0.578906  \n",
       "2           0.633333       0.623024      0.670964  \n",
       "3           0.631250       0.623330      0.706684  \n",
       "4           0.658333       0.654844      0.706250  "
      ]
     },
     "execution_count": 6,
     "metadata": {},
     "output_type": "execute_result"
    }
   ],
   "source": [
    "models_cv"
   ]
  },
  {
   "cell_type": "markdown",
   "id": "6447584c",
   "metadata": {},
   "source": [
    "## Resnet "
   ]
  },
  {
   "cell_type": "code",
   "execution_count": 7,
   "id": "118f8b3e",
   "metadata": {
    "scrolled": true
   },
   "outputs": [
    {
     "name": "stdout",
     "output_type": "stream",
     "text": [
      "******************************************************************** \n",
      "Extracción de caracteristicas por medio de RESNET\n",
      "******************************************************************** \n",
      "Labels: ['enfermo' 'normal']\n",
      "Labels encoded: [0 1]\n",
      "******************************************************************** \n",
      "Extracción de caracteristicas por medio de RESNET finalizada\n",
      "******************************************************************** \n"
     ]
    }
   ],
   "source": [
    "x_train_resnet, y_train_resnet, x_test_resnet, y_test_resnet = extract_features.features_resnet(path)"
   ]
  },
  {
   "cell_type": "code",
   "execution_count": 8,
   "id": "457c96e8",
   "metadata": {},
   "outputs": [
    {
     "name": "stdout",
     "output_type": "stream",
     "text": [
      "******************************************************************** \n",
      "Iniciando torneo de modelos con validación cruzada\n",
      "******************************************************************** \n",
      "Modelo: Random Forest\n",
      "Modelo: Naive Bayes\n",
      "Modelo: SVM\n",
      "Modelo: LGBM\n",
      "Modelo: XGBoost\n",
      "******************************************************************** \n",
      "Finalizando torneo de modelos con validación cruzada\n",
      "******************************************************************** \n"
     ]
    }
   ],
   "source": [
    "models_cv = cross_validation.compare_models(x_train_resnet, y_train_resnet, 5)"
   ]
  },
  {
   "cell_type": "code",
   "execution_count": 9,
   "id": "d5c3390a",
   "metadata": {},
   "outputs": [
    {
     "data": {
      "text/html": [
       "<div>\n",
       "<style scoped>\n",
       "    .dataframe tbody tr th:only-of-type {\n",
       "        vertical-align: middle;\n",
       "    }\n",
       "\n",
       "    .dataframe tbody tr th {\n",
       "        vertical-align: top;\n",
       "    }\n",
       "\n",
       "    .dataframe thead th {\n",
       "        text-align: right;\n",
       "    }\n",
       "</style>\n",
       "<table border=\"1\" class=\"dataframe\">\n",
       "  <thead>\n",
       "    <tr style=\"text-align: right;\">\n",
       "      <th></th>\n",
       "      <th>Model</th>\n",
       "      <th>Train Accuracy</th>\n",
       "      <th>Train precision_macro</th>\n",
       "      <th>Train recall_macro</th>\n",
       "      <th>Train f1_macro</th>\n",
       "      <th>Train AUC-ROC</th>\n",
       "      <th>Test Accuracy</th>\n",
       "      <th>Test precision_macro</th>\n",
       "      <th>Test recall_macro</th>\n",
       "      <th>Test f1_macro</th>\n",
       "      <th>Test AUC-ROC</th>\n",
       "    </tr>\n",
       "  </thead>\n",
       "  <tbody>\n",
       "    <tr>\n",
       "      <th>0</th>\n",
       "      <td>Random Forest</td>\n",
       "      <td>1.000000</td>\n",
       "      <td>1.000000</td>\n",
       "      <td>1.000000</td>\n",
       "      <td>1.000000</td>\n",
       "      <td>1.000000</td>\n",
       "      <td>0.641667</td>\n",
       "      <td>0.659704</td>\n",
       "      <td>0.641667</td>\n",
       "      <td>0.630169</td>\n",
       "      <td>0.725868</td>\n",
       "    </tr>\n",
       "    <tr>\n",
       "      <th>1</th>\n",
       "      <td>Naive Bayes</td>\n",
       "      <td>0.689063</td>\n",
       "      <td>0.712344</td>\n",
       "      <td>0.689063</td>\n",
       "      <td>0.680050</td>\n",
       "      <td>0.711898</td>\n",
       "      <td>0.662500</td>\n",
       "      <td>0.683673</td>\n",
       "      <td>0.662500</td>\n",
       "      <td>0.639610</td>\n",
       "      <td>0.677083</td>\n",
       "    </tr>\n",
       "    <tr>\n",
       "      <th>2</th>\n",
       "      <td>SVM</td>\n",
       "      <td>0.761458</td>\n",
       "      <td>0.768820</td>\n",
       "      <td>0.761458</td>\n",
       "      <td>0.759844</td>\n",
       "      <td>0.842394</td>\n",
       "      <td>0.629167</td>\n",
       "      <td>0.640321</td>\n",
       "      <td>0.629167</td>\n",
       "      <td>0.609573</td>\n",
       "      <td>0.715625</td>\n",
       "    </tr>\n",
       "    <tr>\n",
       "      <th>3</th>\n",
       "      <td>LGBM</td>\n",
       "      <td>1.000000</td>\n",
       "      <td>1.000000</td>\n",
       "      <td>1.000000</td>\n",
       "      <td>1.000000</td>\n",
       "      <td>1.000000</td>\n",
       "      <td>0.618750</td>\n",
       "      <td>0.628986</td>\n",
       "      <td>0.618750</td>\n",
       "      <td>0.610015</td>\n",
       "      <td>0.721354</td>\n",
       "    </tr>\n",
       "    <tr>\n",
       "      <th>4</th>\n",
       "      <td>XGBoost</td>\n",
       "      <td>1.000000</td>\n",
       "      <td>1.000000</td>\n",
       "      <td>1.000000</td>\n",
       "      <td>1.000000</td>\n",
       "      <td>1.000000</td>\n",
       "      <td>0.604167</td>\n",
       "      <td>0.613682</td>\n",
       "      <td>0.604167</td>\n",
       "      <td>0.595330</td>\n",
       "      <td>0.705556</td>\n",
       "    </tr>\n",
       "  </tbody>\n",
       "</table>\n",
       "</div>"
      ],
      "text/plain": [
       "           Model  Train Accuracy  Train precision_macro  Train recall_macro  \\\n",
       "0  Random Forest        1.000000               1.000000            1.000000   \n",
       "1    Naive Bayes        0.689063               0.712344            0.689063   \n",
       "2            SVM        0.761458               0.768820            0.761458   \n",
       "3           LGBM        1.000000               1.000000            1.000000   \n",
       "4        XGBoost        1.000000               1.000000            1.000000   \n",
       "\n",
       "   Train f1_macro  Train AUC-ROC  Test Accuracy  Test precision_macro  \\\n",
       "0        1.000000       1.000000       0.641667              0.659704   \n",
       "1        0.680050       0.711898       0.662500              0.683673   \n",
       "2        0.759844       0.842394       0.629167              0.640321   \n",
       "3        1.000000       1.000000       0.618750              0.628986   \n",
       "4        1.000000       1.000000       0.604167              0.613682   \n",
       "\n",
       "   Test recall_macro  Test f1_macro  Test AUC-ROC  \n",
       "0           0.641667       0.630169      0.725868  \n",
       "1           0.662500       0.639610      0.677083  \n",
       "2           0.629167       0.609573      0.715625  \n",
       "3           0.618750       0.610015      0.721354  \n",
       "4           0.604167       0.595330      0.705556  "
      ]
     },
     "execution_count": 9,
     "metadata": {},
     "output_type": "execute_result"
    }
   ],
   "source": [
    "models_cv"
   ]
  },
  {
   "cell_type": "markdown",
   "id": "379263f5",
   "metadata": {},
   "source": [
    "## NasNet "
   ]
  },
  {
   "cell_type": "code",
   "execution_count": 10,
   "id": "dbac35fb",
   "metadata": {},
   "outputs": [
    {
     "name": "stdout",
     "output_type": "stream",
     "text": [
      "******************************************************************** \n",
      "Feature extraction using NASNET\n",
      "******************************************************************** \n",
      "Found 480 images belonging to 2 classes.\n",
      "Found 120 images belonging to 4 classes.\n",
      "15/15 [==============================] - 108s 7s/step\n",
      "4/4 [==============================] - 27s 6s/step\n",
      "Labels: ['enfermo' 'normal']\n",
      "Labels encoded: [0 1]\n",
      "******************************************************************** \n",
      "Feature extraction finished\n",
      "******************************************************************** \n"
     ]
    }
   ],
   "source": [
    "x_train_nasnet, y_train_nasnet, x_test_nasnet, y_test_nasnet = extract_features.features_nasnet(path)"
   ]
  },
  {
   "cell_type": "code",
   "execution_count": 11,
   "id": "bf6e0da6",
   "metadata": {},
   "outputs": [
    {
     "name": "stdout",
     "output_type": "stream",
     "text": [
      "******************************************************************** \n",
      "Iniciando torneo de modelos con validación cruzada\n",
      "******************************************************************** \n",
      "Modelo: Random Forest\n",
      "Modelo: Naive Bayes\n",
      "Modelo: SVM\n",
      "Modelo: LGBM\n",
      "Modelo: XGBoost\n",
      "******************************************************************** \n",
      "Finalizando torneo de modelos con validación cruzada\n",
      "******************************************************************** \n"
     ]
    }
   ],
   "source": [
    "models_cv = cross_validation.compare_models(x_train_nasnet, y_train_nasnet, 5)"
   ]
  },
  {
   "cell_type": "code",
   "execution_count": 12,
   "id": "3d7e9357",
   "metadata": {},
   "outputs": [
    {
     "data": {
      "text/html": [
       "<div>\n",
       "<style scoped>\n",
       "    .dataframe tbody tr th:only-of-type {\n",
       "        vertical-align: middle;\n",
       "    }\n",
       "\n",
       "    .dataframe tbody tr th {\n",
       "        vertical-align: top;\n",
       "    }\n",
       "\n",
       "    .dataframe thead th {\n",
       "        text-align: right;\n",
       "    }\n",
       "</style>\n",
       "<table border=\"1\" class=\"dataframe\">\n",
       "  <thead>\n",
       "    <tr style=\"text-align: right;\">\n",
       "      <th></th>\n",
       "      <th>Model</th>\n",
       "      <th>Train Accuracy</th>\n",
       "      <th>Train precision_macro</th>\n",
       "      <th>Train recall_macro</th>\n",
       "      <th>Train f1_macro</th>\n",
       "      <th>Train AUC-ROC</th>\n",
       "      <th>Test Accuracy</th>\n",
       "      <th>Test precision_macro</th>\n",
       "      <th>Test recall_macro</th>\n",
       "      <th>Test f1_macro</th>\n",
       "      <th>Test AUC-ROC</th>\n",
       "    </tr>\n",
       "  </thead>\n",
       "  <tbody>\n",
       "    <tr>\n",
       "      <th>0</th>\n",
       "      <td>Random Forest</td>\n",
       "      <td>1.000000</td>\n",
       "      <td>1.000000</td>\n",
       "      <td>1.000000</td>\n",
       "      <td>1.000000</td>\n",
       "      <td>1.000000</td>\n",
       "      <td>0.537500</td>\n",
       "      <td>0.537827</td>\n",
       "      <td>0.537500</td>\n",
       "      <td>0.536444</td>\n",
       "      <td>0.546354</td>\n",
       "    </tr>\n",
       "    <tr>\n",
       "      <th>1</th>\n",
       "      <td>Naive Bayes</td>\n",
       "      <td>0.580729</td>\n",
       "      <td>0.608015</td>\n",
       "      <td>0.580729</td>\n",
       "      <td>0.553069</td>\n",
       "      <td>0.645345</td>\n",
       "      <td>0.493750</td>\n",
       "      <td>0.491064</td>\n",
       "      <td>0.493750</td>\n",
       "      <td>0.459876</td>\n",
       "      <td>0.494314</td>\n",
       "    </tr>\n",
       "    <tr>\n",
       "      <th>2</th>\n",
       "      <td>SVM</td>\n",
       "      <td>0.586979</td>\n",
       "      <td>0.587378</td>\n",
       "      <td>0.586979</td>\n",
       "      <td>0.586488</td>\n",
       "      <td>0.586122</td>\n",
       "      <td>0.558333</td>\n",
       "      <td>0.559960</td>\n",
       "      <td>0.558333</td>\n",
       "      <td>0.555105</td>\n",
       "      <td>0.532422</td>\n",
       "    </tr>\n",
       "    <tr>\n",
       "      <th>3</th>\n",
       "      <td>LGBM</td>\n",
       "      <td>1.000000</td>\n",
       "      <td>1.000000</td>\n",
       "      <td>1.000000</td>\n",
       "      <td>1.000000</td>\n",
       "      <td>1.000000</td>\n",
       "      <td>0.533333</td>\n",
       "      <td>0.533685</td>\n",
       "      <td>0.533333</td>\n",
       "      <td>0.531362</td>\n",
       "      <td>0.541753</td>\n",
       "    </tr>\n",
       "    <tr>\n",
       "      <th>4</th>\n",
       "      <td>XGBoost</td>\n",
       "      <td>1.000000</td>\n",
       "      <td>1.000000</td>\n",
       "      <td>1.000000</td>\n",
       "      <td>1.000000</td>\n",
       "      <td>1.000000</td>\n",
       "      <td>0.512500</td>\n",
       "      <td>0.512749</td>\n",
       "      <td>0.512500</td>\n",
       "      <td>0.510632</td>\n",
       "      <td>0.527691</td>\n",
       "    </tr>\n",
       "  </tbody>\n",
       "</table>\n",
       "</div>"
      ],
      "text/plain": [
       "           Model  Train Accuracy  Train precision_macro  Train recall_macro  \\\n",
       "0  Random Forest        1.000000               1.000000            1.000000   \n",
       "1    Naive Bayes        0.580729               0.608015            0.580729   \n",
       "2            SVM        0.586979               0.587378            0.586979   \n",
       "3           LGBM        1.000000               1.000000            1.000000   \n",
       "4        XGBoost        1.000000               1.000000            1.000000   \n",
       "\n",
       "   Train f1_macro  Train AUC-ROC  Test Accuracy  Test precision_macro  \\\n",
       "0        1.000000       1.000000       0.537500              0.537827   \n",
       "1        0.553069       0.645345       0.493750              0.491064   \n",
       "2        0.586488       0.586122       0.558333              0.559960   \n",
       "3        1.000000       1.000000       0.533333              0.533685   \n",
       "4        1.000000       1.000000       0.512500              0.512749   \n",
       "\n",
       "   Test recall_macro  Test f1_macro  Test AUC-ROC  \n",
       "0           0.537500       0.536444      0.546354  \n",
       "1           0.493750       0.459876      0.494314  \n",
       "2           0.558333       0.555105      0.532422  \n",
       "3           0.533333       0.531362      0.541753  \n",
       "4           0.512500       0.510632      0.527691  "
      ]
     },
     "execution_count": 12,
     "metadata": {},
     "output_type": "execute_result"
    }
   ],
   "source": [
    "models_cv"
   ]
  }
 ],
 "metadata": {
  "kernelspec": {
   "display_name": "env_maestria",
   "language": "python",
   "name": "env_maestria"
  },
  "language_info": {
   "codemirror_mode": {
    "name": "ipython",
    "version": 3
   },
   "file_extension": ".py",
   "mimetype": "text/x-python",
   "name": "python",
   "nbconvert_exporter": "python",
   "pygments_lexer": "ipython3",
   "version": "3.8.10"
  }
 },
 "nbformat": 4,
 "nbformat_minor": 5
}
